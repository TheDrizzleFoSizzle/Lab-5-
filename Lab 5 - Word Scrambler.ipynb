{
 "cells": [
  {
   "cell_type": "code",
   "execution_count": 18,
   "id": "22f97bf2",
   "metadata": {},
   "outputs": [
    {
     "name": "stdout",
     "output_type": "stream",
     "text": [
      "What phrase do you want to scramble?jgpomhgjiersvhgrstibhgnjvtrm;ghj;iocghjvr ivghrtvih;ritgvj;rtgh;jvsr;gvj ;rthgccijthmvr h rth;vrtsc;oigjmmr;vhjy90oiut90 giu 09[90ej\n"
     ]
    }
   ],
   "source": [
    "name = input(\"What phrase do you want to scramble?\")\n"
   ]
  },
  {
   "cell_type": "code",
   "execution_count": 19,
   "id": "973bc516",
   "metadata": {
    "scrolled": true
   },
   "outputs": [],
   "source": [
    "n=0\n",
    "while n <=4:\n",
    "    name[n::4]\n",
    "    #print(name[n::4])\n",
    "    n = n+1\n",
    "\n"
   ]
  },
  {
   "cell_type": "code",
   "execution_count": 20,
   "id": "1faa13ca",
   "metadata": {},
   "outputs": [
    {
     "name": "stdout",
     "output_type": "stream",
     "text": [
      "jmivshv;;grgvrvtj; himhhtomv9u  9ghehtgtgih hiijgvg;gjv ;simh0tg00pgrginrhojirht;hsvrctrrvcgrjo9i9eojsrbjmjcvvt;gr;rjtch tr;j;yi0u[jmivshv;;grgvrvtj; himhhtomv9u  9\n"
     ]
    }
   ],
   "source": [
    "Output = name[0::4]+name[1::4]+name[2::4]+name[3::4]+name[4::4]\n",
    "print(Output)"
   ]
  },
  {
   "cell_type": "code",
   "execution_count": null,
   "id": "33b57c67",
   "metadata": {},
   "outputs": [],
   "source": []
  }
 ],
 "metadata": {
  "kernelspec": {
   "display_name": "Python 3 (ipykernel)",
   "language": "python",
   "name": "python3"
  },
  "language_info": {
   "codemirror_mode": {
    "name": "ipython",
    "version": 3
   },
   "file_extension": ".py",
   "mimetype": "text/x-python",
   "name": "python",
   "nbconvert_exporter": "python",
   "pygments_lexer": "ipython3",
   "version": "3.9.7"
  }
 },
 "nbformat": 4,
 "nbformat_minor": 5
}
